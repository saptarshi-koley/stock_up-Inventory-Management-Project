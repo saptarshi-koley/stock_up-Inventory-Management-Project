{
  "nbformat": 4,
  "nbformat_minor": 0,
  "metadata": {
    "colab": {
      "name": "stock_up.ipynb",
      "provenance": []
    },
    "kernelspec": {
      "name": "python3",
      "display_name": "Python 3"
    },
    "language_info": {
      "name": "python"
    }
  },
  "cells": [
    {
      "cell_type": "code",
      "metadata": {
        "id": "nXrx6K1MsaIo"
      },
      "source": [
        "import json\n",
        "fd=open(\"more.json\",'r')\n",
        "r=fd.read()\n",
        "fd.close()\n",
        "records=json.loads(r)"
      ],
      "execution_count": null,
      "outputs": []
    },
    {
      "cell_type": "markdown",
      "metadata": {
        "id": "o9gpEpmUtXDb"
      },
      "source": [
        "ITEMS AVAILABLE IN SUPERMARKET"
      ]
    },
    {
      "cell_type": "code",
      "metadata": {
        "colab": {
          "base_uri": "https://localhost:8080/"
        },
        "id": "UQxUtEGythzp",
        "outputId": "ec7524e5-e7bd-44f7-88a4-d55e07078b2d"
      },
      "source": [
        "records"
      ],
      "execution_count": null,
      "outputs": [
        {
          "output_type": "execute_result",
          "data": {
            "text/plain": [
              "{'0001': {'dt': '11.11.2022', 'name': 'Rice', 'pr': 50, 'qn': 2000},\n",
              " '0002': {'dt': '11.11.2021', 'name': 'Wheat', 'pr': 30, 'qn': 2000},\n",
              " '0003': {'dt': '12.12.2022', 'name': 'Mustard Oil', 'pr': 200, 'qn': 500},\n",
              " '0004': {'dt': '12.12.2022', 'name': 'Sunflower Oil', 'pr': 250, 'qn': 500},\n",
              " '0005': {'dt': '21.12.2022', 'name': 'Basmati Rice', 'pr': 70, 'qn': 500},\n",
              " '0006': {'dt': '21.12.2022', 'name': 'Flour', 'pr': 30, 'qn': 500},\n",
              " '0007': {'dt': '07.09.2021', 'name': 'Milk', 'pr': 50, 'qn': 50},\n",
              " '0008': {'dt': '07.09.2021', 'name': 'Paneer', 'pr': 100, 'qn': 10},\n",
              " '0009': {'dt': '10.09.2021', 'name': 'Meat_Chicken', 'pr': 200, 'qn': 50},\n",
              " '0010': {'dt': '10.09.2021', 'name': 'Meat_Mutton', 'pr': 800, 'qn': 50},\n",
              " '0011': {'dt': '10.09.2021', 'name': 'Meat_Pork', 'pr': 500, 'qn': 10},\n",
              " '0012': {'dt': '10.09.2021', 'name': 'Mushroom', 'pr': 600, 'qn': 5},\n",
              " '0013': {'dt': '11.11.2022', 'name': 'Moong Dal', 'pr': 150, 'qn': 50},\n",
              " '0014': {'dt': '11.11.2021', 'name': 'Musoor Dal', 'pr': 125, 'qn': 50},\n",
              " '0015': {'dt': '11.11.2021', 'name': 'Toor Dal', 'pr': 100, 'qn': 25},\n",
              " '0016': {'dt': '11.11.2022', 'name': 'Chana Dal', 'pr': 90, 'qn': 25},\n",
              " '0017': {'dt': '11.10.2021', 'name': 'Potato', 'pr': 30, 'qn': 100},\n",
              " '0018': {'dt': '11.10.2021', 'name': 'Onion', 'pr': 50, 'qn': 100},\n",
              " '0019': {'dt': '11.09.2021', 'name': 'Tomato', 'pr': 50, 'qn': 50},\n",
              " '0020': {'dt': '11.10.2021', 'name': 'Cucumber', 'pr': 50, 'qn': 25},\n",
              " '0021': {'dt': '10.10.2021', 'name': 'Brinjal', 'pr': 30, 'qn': 20},\n",
              " '0022': {'dt': '01.11.2021', 'name': 'Chilli', 'pr': 100, 'qn': 10},\n",
              " '0023': {'dt': '11.09.2021', 'name': 'Lemon', 'pr': 10, 'qn': 100},\n",
              " '0024': {'dt': '11.09.2021', 'name': 'Orange', 'pr': 15, 'qn': 100},\n",
              " '0025': {'dt': '11.09.2021', 'name': 'Apple', 'pr': 20, 'qn': 100},\n",
              " '0026': {'dt': '11.09.2021', 'name': 'Pinapple', 'pr': 50, 'qn': 50},\n",
              " '0027': {'dt': '11.09.2021', 'name': 'Mango', 'pr': 20, 'qn': 100},\n",
              " '0028': {'dt': '11.09.2021', 'name': 'Guava', 'pr': 10, 'qn': 95},\n",
              " '0029': {'dt': '11.11.2021', 'name': 'Tea', 'pr': 500, 'qn': 50},\n",
              " '0030': {'dt': '11.11.2022', 'name': 'Coffee', 'pr': 1000, 'qn': 3}}"
            ]
          },
          "metadata": {},
          "execution_count": 33
        }
      ]
    },
    {
      "cell_type": "code",
      "metadata": {
        "colab": {
          "base_uri": "https://localhost:8080/"
        },
        "id": "T_k1zh9ytjwr",
        "outputId": "b40cee20-c169-4058-9510-d762c6a08e7f"
      },
      "source": [
        "prod_id = str(input(\"Enter product ID:\"))\n",
        "name = str(input(\"Enter Name:\"))\n",
        "pr = int(input(\"Enter price:\"))\n",
        "qn = int(input(\"Enter quantity:\"))\n",
        "dt=str(input(\"Expiry Date:\"))\n",
        "\n",
        "records[prod_id] = {'name': name, 'pr': pr, 'qn': qn,'dt':dt}\n",
        "\n",
        "js = json.dumps(records)\n",
        "\n",
        "fd = open(\"more.json\",'w')\n",
        "fd.write(js)\n",
        "fd.close()"
      ],
      "execution_count": null,
      "outputs": [
        {
          "name": "stdout",
          "output_type": "stream",
          "text": [
            "Enter product ID:0001\n",
            "Enter Name:Rice\n",
            "Enter price:50\n",
            "Enter quantity:2000\n",
            "Expiry Date:11.11.2022\n"
          ]
        }
      ]
    },
    {
      "cell_type": "code",
      "metadata": {
        "id": "ish0KEX4St4H"
      },
      "source": [
        "import json\n",
        "fd=open(\"more.json\",'r')\n",
        "r=fd.read()\n",
        "fd.close()\n",
        "records=json.loads(r)"
      ],
      "execution_count": null,
      "outputs": []
    },
    {
      "cell_type": "markdown",
      "metadata": {
        "id": "vSS4iaXsSw6s"
      },
      "source": [
        "PURCHASE ITEMS"
      ]
    },
    {
      "cell_type": "code",
      "metadata": {
        "colab": {
          "base_uri": "https://localhost:8080/"
        },
        "id": "bnxCeAQISyo-",
        "outputId": "980867f1-3412-4a98-94d3-5bf2748ccff6"
      },
      "source": [
        "ui_prod  = str(input(\"Enter the product ID: \"))\n",
        "ui_quant = int(input(\"Enter the quantity: \"))\n",
        "if((records[ui_prod]['qn']-ui_quant)<0):\n",
        "  print(\"Items not available\")\n",
        "else:\n",
        "  print(\"Product: \", records[ui_prod]['name'])\n",
        "  print(\"Price: \", records[ui_prod]['pr'])\n",
        "  print(\"Billing Amount: \", records[ui_prod]['pr'] * ui_quant)\n",
        "\n",
        "  records[ui_prod]['qn'] = records[ui_prod]['qn'] - ui_quant\n",
        "  js = json.dumps(records)\n",
        "\n",
        "  fd = open(\"more.json\",'w')\n",
        "  fd.write(js)\n",
        "  fd.close()"
      ],
      "execution_count": null,
      "outputs": [
        {
          "output_type": "stream",
          "name": "stdout",
          "text": [
            "Enter the product ID: 0030\n",
            "Enter the quantity: 2\n",
            "Product:  Coffee\n",
            "Price:  1000\n",
            "Billing Amount:  2000\n"
          ]
        }
      ]
    },
    {
      "cell_type": "markdown",
      "metadata": {
        "id": "1zws8D-US03J"
      },
      "source": [
        "UPDATE INVENTORY"
      ]
    },
    {
      "cell_type": "code",
      "metadata": {
        "id": "2tcQfi5dS2lR"
      },
      "source": [
        "# js = json.dumps(records)\n",
        "\n",
        "# fd = open(\"more.json\",'w')\n",
        "# fd.write(js)\n",
        "# fd.close()"
      ],
      "execution_count": null,
      "outputs": []
    },
    {
      "cell_type": "markdown",
      "metadata": {
        "id": "YuEvMfsqS6SJ"
      },
      "source": [
        "SALE JSON"
      ]
    },
    {
      "cell_type": "code",
      "metadata": {
        "id": "xvD9S9ysS76K"
      },
      "source": [
        "# {'prod' : ui_prod, 'qn' : ui_quant, 'amount': records[ui_prod]['pr'] * ui_quant}\n",
        "import json\n",
        "fd=open(\"sale.json\",'r')\n",
        "r=fd.read()\n",
        "fd.close()\n",
        "sales=json.loads(r)\n",
        "bill_no=str(len(sales)+1)\n",
        "sales[bill_no] = {'prod' : ui_prod, 'qn' : ui_quant, 'amount': records[ui_prod]['pr'] * ui_quant}"
      ],
      "execution_count": null,
      "outputs": []
    },
    {
      "cell_type": "code",
      "metadata": {
        "id": "F2McXOhqS9rA"
      },
      "source": [
        "sell=json.dumps(sales)"
      ],
      "execution_count": null,
      "outputs": []
    },
    {
      "cell_type": "code",
      "metadata": {
        "id": "7iEOqlROS-Ml"
      },
      "source": [
        "fd=open(\"sale.json\",'w')\n",
        "w=fd.write(sell)\n",
        "fd.close()"
      ],
      "execution_count": null,
      "outputs": []
    },
    {
      "cell_type": "code",
      "metadata": {
        "id": "QGUX-qG1UPMc"
      },
      "source": [
        "import json\n",
        "fd=open(\"sale.json\",'r')\n",
        "r=fd.read()\n",
        "fd.close()\n",
        "records=json.loads(r)"
      ],
      "execution_count": null,
      "outputs": []
    },
    {
      "cell_type": "code",
      "metadata": {
        "colab": {
          "base_uri": "https://localhost:8080/"
        },
        "id": "hY0rBjRqUbJC",
        "outputId": "b2eee318-089d-4b24-864e-88c342f7fc90"
      },
      "source": [
        "print(records)"
      ],
      "execution_count": null,
      "outputs": [
        {
          "output_type": "stream",
          "name": "stdout",
          "text": [
            "{'prod': '0028', 'qn': 5, 'amount': 50, '4': {'prod': '0030', 'qn': 2, 'amount': 2000}}\n"
          ]
        }
      ]
    }
  ]
}